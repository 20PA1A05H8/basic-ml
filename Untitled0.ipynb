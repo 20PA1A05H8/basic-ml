{
  "nbformat": 4,
  "nbformat_minor": 0,
  "metadata": {
    "colab": {
      "name": "Untitled0.ipynb",
      "provenance": [],
      "authorship_tag": "ABX9TyMb3lfzXEW2AW/7jNJdDfzk",
      "include_colab_link": true
    },
    "kernelspec": {
      "name": "python3",
      "display_name": "Python 3"
    },
    "language_info": {
      "name": "python"
    }
  },
  "cells": [
    {
      "cell_type": "markdown",
      "metadata": {
        "id": "view-in-github",
        "colab_type": "text"
      },
      "source": [
        "<a href=\"https://colab.research.google.com/github/20PA1A05H8/basic-ml/blob/main/Untitled0.ipynb\" target=\"_parent\"><img src=\"https://colab.research.google.com/assets/colab-badge.svg\" alt=\"Open In Colab\"/></a>"
      ]
    },
    {
      "cell_type": "code",
      "metadata": {
        "colab": {
          "base_uri": "https://localhost:8080/"
        },
        "id": "_LmaFWImRHCK",
        "outputId": "8c623fb6-99e4-4558-e44c-c6722533bae7"
      },
      "source": [
        "#write a python program to check whether even or odd\n",
        "a=int(input(\"Please Enter a Number : \"));  \n",
        "if(a%2==0):  \n",
        "    print(\"This Number is Even\")  \n",
        "else:  \n",
        "    print(\"This Number is Odd\") "
      ],
      "execution_count": null,
      "outputs": [
        {
          "output_type": "stream",
          "text": [
            "Please Enter a Number : 6\n",
            "This Number is Even\n"
          ],
          "name": "stdout"
        }
      ]
    },
    {
      "cell_type": "code",
      "metadata": {
        "colab": {
          "base_uri": "https://localhost:8080/"
        },
        "id": "PxMMj_U_VzeZ",
        "outputId": "051d4412-eaeb-4454-9e80-5b1b0ec18af9"
      },
      "source": [
        "#write a python program to reverse a number\n",
        "Number = int(input(\"Please Enter any Number: \"))    \n",
        "Reverse = 0    \n",
        "while(Number > 0):    \n",
        "    Reminder = Number %10    \n",
        "    Reverse = (Reverse *10) + Reminder    \n",
        "    Number = Number //10    \n",
        "     \n",
        "print(\"\\n Reverse of entered number is = %d\" %Reverse)   "
      ],
      "execution_count": null,
      "outputs": [
        {
          "output_type": "stream",
          "text": [
            "Please Enter any Number: 1234\n",
            "\n",
            " Reverse of entered number is = 4321\n"
          ],
          "name": "stdout"
        }
      ]
    },
    {
      "cell_type": "code",
      "metadata": {
        "colab": {
          "base_uri": "https://localhost:8080/"
        },
        "id": "O2Qq0miEW82y",
        "outputId": "2546029e-23eb-40cb-fe1a-db9868ba3082"
      },
      "source": [
        "#write a python program to check prime or not\n",
        "number = int(input(\"Enter any number: \"))\n",
        "if number > 1:\n",
        "    for i in range(2, number):\n",
        "        if (number % i) == 0:\n",
        "            print(number, \"is not a prime number\")\n",
        "    else:\n",
        "        print(number, \"is a prime number\")\n",
        "\n",
        "\n"
      ],
      "execution_count": null,
      "outputs": [
        {
          "output_type": "stream",
          "text": [
            "Enter any number: 3\n",
            "3 is a prime number\n"
          ],
          "name": "stdout"
        }
      ]
    }
  ]
}